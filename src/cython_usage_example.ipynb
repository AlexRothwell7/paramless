{
 "metadata": {
  "name": "",
  "signature": "sha256:8e0743db04d8a770cc45a765fa32e266ec4c6edfd949a15e3883cac07c5347fc"
 },
 "nbformat": 3,
 "nbformat_minor": 0,
 "worksheets": [
  {
   "cells": [
    {
     "cell_type": "code",
     "collapsed": false,
     "input": [
      "%pylab inline\n",
      "%load_ext cythonmagic\n",
      "from scipy.integrate import simps"
     ],
     "language": "python",
     "metadata": {},
     "outputs": [
      {
       "output_type": "stream",
       "stream": "stdout",
       "text": [
        "Populating the interactive namespace from numpy and matplotlib\n"
       ]
      }
     ],
     "prompt_number": 1
    },
    {
     "cell_type": "code",
     "collapsed": false,
     "input": [
      "import pyximport; pyximport.install(setup_args={\"include_dirs\":numpy.get_include()})\n",
      "import paramless as pmain\n",
      "import paramless_cython as pm"
     ],
     "language": "python",
     "metadata": {},
     "outputs": [],
     "prompt_number": 8
    },
    {
     "cell_type": "markdown",
     "metadata": {},
     "source": [
      "#Using Cython to improve the runtime"
     ]
    },
    {
     "cell_type": "markdown",
     "metadata": {},
     "source": [
      "This notebook will show a simple example of improving the runtime of an evolution run using Cython functions. To do this we'll build on the Seasonal Flowering example."
     ]
    },
    {
     "cell_type": "markdown",
     "metadata": {},
     "source": [
      "The functions used there are given below:"
     ]
    },
    {
     "cell_type": "code",
     "collapsed": false,
     "input": [
      "class FloweringFitness(pm.FitnessFunction):\n",
      "    def __init__(self, domain, alpha, beta):\n",
      "        self.domain = domain\n",
      "        self.alpha = alpha\n",
      "        self.beta = beta\n",
      "        \n",
      "    def get(self, resident, mutant):\n",
      "        pass"
     ],
     "language": "python",
     "metadata": {},
     "outputs": [
      {
       "ename": "NameError",
       "evalue": "name 'pm' is not defined",
       "output_type": "pyerr",
       "traceback": [
        "\u001b[1;31m---------------------------------------------------------------------------\u001b[0m\n\u001b[1;31mNameError\u001b[0m                                 Traceback (most recent call last)",
        "\u001b[1;32m<ipython-input-7-b31369d3a7a1>\u001b[0m in \u001b[0;36m<module>\u001b[1;34m()\u001b[0m\n\u001b[1;32m----> 1\u001b[1;33m \u001b[1;32mclass\u001b[0m \u001b[0mFloweringFitness\u001b[0m\u001b[1;33m(\u001b[0m\u001b[0mpm\u001b[0m\u001b[1;33m.\u001b[0m\u001b[0mFitnessFunction\u001b[0m\u001b[1;33m)\u001b[0m\u001b[1;33m:\u001b[0m\u001b[1;33m\u001b[0m\u001b[0m\n\u001b[0m\u001b[0;32m      2\u001b[0m     \u001b[1;32mdef\u001b[0m \u001b[0m__init__\u001b[0m\u001b[1;33m(\u001b[0m\u001b[0mself\u001b[0m\u001b[1;33m,\u001b[0m \u001b[0mdomain\u001b[0m\u001b[1;33m,\u001b[0m \u001b[0malpha\u001b[0m\u001b[1;33m,\u001b[0m \u001b[0mbeta\u001b[0m\u001b[1;33m)\u001b[0m\u001b[1;33m:\u001b[0m\u001b[1;33m\u001b[0m\u001b[0m\n\u001b[0;32m      3\u001b[0m         \u001b[0mself\u001b[0m\u001b[1;33m.\u001b[0m\u001b[0mdomain\u001b[0m \u001b[1;33m=\u001b[0m \u001b[0mdomain\u001b[0m\u001b[1;33m\u001b[0m\u001b[0m\n\u001b[0;32m      4\u001b[0m         \u001b[0mself\u001b[0m\u001b[1;33m.\u001b[0m\u001b[0malpha\u001b[0m \u001b[1;33m=\u001b[0m \u001b[0malpha\u001b[0m\u001b[1;33m\u001b[0m\u001b[0m\n\u001b[0;32m      5\u001b[0m         \u001b[0mself\u001b[0m\u001b[1;33m.\u001b[0m\u001b[0mbeta\u001b[0m \u001b[1;33m=\u001b[0m \u001b[0mbeta\u001b[0m\u001b[1;33m\u001b[0m\u001b[0m\n",
        "\u001b[1;31mNameError\u001b[0m: name 'pm' is not defined"
       ]
      }
     ],
     "prompt_number": 7
    },
    {
     "cell_type": "code",
     "collapsed": false,
     "input": [
      "def p_x(self, a, x, k):\n",
      "    #takes a, and functions x and k\n",
      "    return math.e**(-x[a]/k(a))\n",
      "\n",
      "FloweringFitness.p_x = p_x"
     ],
     "language": "python",
     "metadata": {},
     "outputs": [],
     "prompt_number": 4
    },
    {
     "cell_type": "code",
     "collapsed": false,
     "input": [
      "def k(self, a):\n",
      "    return 100*(2 + math.sin(2*math.pi*((a-1.0)**2.0 - 0.25)))\n",
      "\n",
      "FloweringFitness.k_function = k"
     ],
     "language": "python",
     "metadata": {},
     "outputs": [],
     "prompt_number": 5
    },
    {
     "cell_type": "code",
     "collapsed": false,
     "input": [
      "def c(self, e, alpha):\n",
      "    return 2.0/(1 + math.e**(-alpha*e))\n",
      "\n",
      "FloweringFitness.c = c"
     ],
     "language": "python",
     "metadata": {},
     "outputs": [],
     "prompt_number": 6
    },
    {
     "cell_type": "code",
     "collapsed": false,
     "input": [
      "def birth(self, x_mutant, x_resident, domain, alpha, beta, k_function):\n",
      "    x_resident_dict = dict(zip(domain, x_resident))\n",
      "    x_mutant_dict = dict(zip(domain, x_mutant))\n",
      "    integrand = [x_mutant_dict[a]*self.c((x_mutant_dict[a]-x_resident_dict[a])/(x_mutant_dict[a]**beta), alpha)*self.p_x(a, x_resident_dict, k_function) for a in domain]\n",
      "    return simps(integrand, domain)\n",
      "\n",
      "FloweringFitness.birth = birth"
     ],
     "language": "python",
     "metadata": {},
     "outputs": [],
     "prompt_number": 7
    },
    {
     "cell_type": "code",
     "collapsed": false,
     "input": [
      "def flowering_fitness(self, resident, mutant):\n",
      "    fitness_resident = self.birth(resident, resident, self.domain, self.alpha, self.beta, self.k_function)\n",
      "    fitness_mutant = self.birth(mutant, resident, self.domain, self.alpha, self.beta, self.k_function)\n",
      "    return fitness_resident, fitness_mutant\n",
      "\n",
      "FloweringFitness.get = flowering_fitness"
     ],
     "language": "python",
     "metadata": {},
     "outputs": [],
     "prompt_number": 8
    },
    {
     "cell_type": "markdown",
     "metadata": {},
     "source": [
      "These can all be redefined using Cython definitions and types:"
     ]
    },
    {
     "cell_type": "code",
     "collapsed": false,
     "input": [
      "%%cython\n",
      "import numpy as np\n",
      "cimport numpy as np\n",
      "import math\n",
      "from scipy.integrate import simps\n",
      "from libc.math cimport exp, sin\n",
      "\n",
      "cdef class cyFloweringFitness:\n",
      "    #Class members need to be declared before assignment\n",
      "    cdef double [:] domain\n",
      "    cdef double alpha, beta\n",
      "    def __init__(self, np.ndarray[double, ndim=1] domain, double alpha, double beta):\n",
      "        self.domain = domain\n",
      "        self.alpha = alpha\n",
      "        self.beta = beta\n",
      "        \n",
      "    cdef double p_x(self, double a, x):\n",
      "        return exp(-x[a]/self.k(a))\n",
      "\n",
      "    cdef double k(self, double a):\n",
      "        return 100*(2 + sin(2*math.pi*((a-1.0)**2.0 - 0.25)))\n",
      "\n",
      "    cdef double c(self, e):\n",
      "        return 2.0/(1 + exp(-self.alpha*e))\n",
      "\n",
      "    cdef double birth(self, double [:] x_mutant, double [:] x_resident):\n",
      "        x_resident_dict = dict(zip(np.asarray(self.domain), np.asarray(x_resident)))\n",
      "        x_mutant_dict = dict(zip(np.asarray(self.domain), np.asarray(x_mutant)))\n",
      "        integrand = [x_mutant_dict[a]*self.c((x_mutant_dict[a]-x_resident_dict[a])/(x_mutant_dict[a]**self.beta))*self.p_x(a, x_resident_dict) for a in self.domain]\n",
      "        return simps(integrand, self.domain)\n",
      "        \n",
      "        \n",
      "    def get(self, double [:] resident, double [:] mutant):\n",
      "        fitness_resident = self.birth(resident, resident)\n",
      "        fitness_mutant = self.birth(mutant, resident)\n",
      "        return fitness_resident, fitness_mutant\n",
      "        "
     ],
     "language": "python",
     "metadata": {},
     "outputs": [],
     "prompt_number": 9
    },
    {
     "cell_type": "heading",
     "level": 4,
     "metadata": {},
     "source": [
      "An alternative method for utilising Cython is through the \"Pure Python Mode\", described at http://docs.cython.org/src/tutorial/pure.html"
     ]
    },
    {
     "cell_type": "heading",
     "level": 3,
     "metadata": {},
     "source": [
      "Set up timing"
     ]
    },
    {
     "cell_type": "code",
     "collapsed": false,
     "input": [
      "import timeit\n",
      "times = []\n",
      "names = []"
     ],
     "language": "python",
     "metadata": {},
     "outputs": [],
     "prompt_number": 10
    },
    {
     "cell_type": "code",
     "collapsed": false,
     "input": [
      "domain = np.arange(0.001, 1.0, 0.01)"
     ],
     "language": "python",
     "metadata": {},
     "outputs": [],
     "prompt_number": 11
    },
    {
     "cell_type": "code",
     "collapsed": false,
     "input": [
      "initial_surface = np.ones_like(domain)"
     ],
     "language": "python",
     "metadata": {},
     "outputs": [],
     "prompt_number": 12
    },
    {
     "cell_type": "code",
     "collapsed": false,
     "input": [
      "number_of_generations = 5000"
     ],
     "language": "python",
     "metadata": {},
     "outputs": [],
     "prompt_number": 13
    },
    {
     "cell_type": "code",
     "collapsed": false,
     "input": [
      "%%capture\n",
      "seed = 777\n",
      "\n",
      "fitness_function = FloweringFitness(domain, 1.0, 0.9)\n",
      "mutator = pm.GaussianDistributionMutator(0.01, domain, 0.05)\n",
      "evolver = pm.StandardEvolver(fitness_function, mutator)\n",
      "pm.setup(seed)\n",
      "\n",
      "ans, series = pmain.evolve(initial_surface, evolver,\n",
      "                     iterations=number_of_generations,\n",
      "                     return_time_series=True, seed=seed)\n",
      "\n",
      "times.append(min(timeit.Timer('pmain.evolve(initial_surface=initial_surface, evolver=evolver, iterations=number_of_generations, return_time_series=True, seed=seed)', \n",
      "            'from __main__ import initial_surface, evolver, number_of_generations, seed;import pyximport; pyximport.install();import paramless_fast as pmain').repeat(repeat=3, number=3)))\n",
      "names.append('Original')"
     ],
     "language": "python",
     "metadata": {},
     "outputs": [],
     "prompt_number": 14
    },
    {
     "cell_type": "code",
     "collapsed": false,
     "input": [
      "%%capture\n",
      "cy_fitness = cyFloweringFitness(domain, 1.0, 0.9)\n",
      "mutator = pm.GaussianDistributionMutator(0.01, domain, 0.05)\n",
      "evolver = pm.StandardEvolver(cy_fitness, mutator)\n",
      "pm.setup(seed)\n",
      "\n",
      "cyAns, series = pmain.evolve(initial_surface, evolver,\n",
      "                     iterations=number_of_generations,\n",
      "                     return_time_series=True, seed=seed)\n",
      "\n",
      "times.append(min(timeit.Timer('pmain.evolve(initial_surface=initial_surface, evolver=evolver, iterations=number_of_generations, return_time_series=True, seed=seed)', \n",
      "            'from __main__ import initial_surface, evolver, number_of_generations, seed;import pyximport; pyximport.install();import paramless_fast as pmain').repeat(repeat=3, number=3)))\n",
      "names.append('Cython')"
     ],
     "language": "python",
     "metadata": {},
     "outputs": [],
     "prompt_number": 15
    },
    {
     "cell_type": "heading",
     "level": 3,
     "metadata": {},
     "source": [
      "Ensure that the code is equivalent:"
     ]
    },
    {
     "cell_type": "code",
     "collapsed": false,
     "input": [
      "plot(domain, ans)\n",
      "plot(domain,cyAns)"
     ],
     "language": "python",
     "metadata": {},
     "outputs": [
      {
       "metadata": {},
       "output_type": "pyout",
       "prompt_number": 16,
       "text": [
        "[<matplotlib.lines.Line2D at 0x7f9bf324bbd0>]"
       ]
      },
      {
       "metadata": {},
       "output_type": "display_data",
       "png": "[encoded data removed]",
       "text": [
        "<matplotlib.figure.Figure at 0x7f9bf324b9d0>"
       ]
      }
     ],
     "prompt_number": 16
    },
    {
     "cell_type": "code",
     "collapsed": false,
     "input": [
      "#Adapted from http://nbviewer.ipython.org/github/rasbt/python_reference/blob/master/tutorials/running_cython.ipynb\n",
      "from matplotlib import pyplot as plt\n",
      "import numpy as np\n",
      "\n",
      "fig = plt.figure(figsize=(10,8))\n",
      "\n",
      "# plot bars\n",
      "y_pos = np.arange(len(times)) + .5\n",
      "plt.yticks(y_pos, names, fontsize=14)\n",
      "bars = plt.barh(y_pos, times,\n",
      "         align='center', alpha=0.4, color='g')\n",
      "\n",
      "# annotation and labels\n",
      "\n",
      "for b,d in zip(bars, times):\n",
      "    plt.text(max(times)+1.5, b.get_y() + b.get_height()/2.5, \n",
      "             '{:.3}'.format(d),\n",
      "             ha='center', va='bottom', fontsize=12)\n",
      "\n",
      "plt.ylim([-1,len(times)+0.5])\n",
      "plt.grid()\n",
      "plt.ylim([0,len(times)])\n",
      "\n",
      "plt.show()"
     ],
     "language": "python",
     "metadata": {},
     "outputs": [
      {
       "metadata": {},
       "output_type": "display_data",
       "png": "[encoded data removed]",
       "text": [
        "<matplotlib.figure.Figure at 0x7f9bf35b75d0>"
       ]
      }
     ],
     "prompt_number": 45
    },
    {
     "cell_type": "code",
     "collapsed": false,
     "input": [],
     "language": "python",
     "metadata": {},
     "outputs": []
    }
   ],
   "metadata": {}
  }
 ]
}